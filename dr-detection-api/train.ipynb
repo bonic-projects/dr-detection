{
 "cells": [
  {
   "cell_type": "code",
   "execution_count": null,
   "id": "necessary-stone",
   "metadata": {
    "_cell_guid": "b1076dfc-b9ad-4769-8c92-a6c4dae69d19",
    "_uuid": "8f2839f25d086af736a60e9eeb907d3b93b6e0e5",
    "execution": {
     "iopub.execute_input": "2021-04-19T13:49:06.257755Z",
     "iopub.status.busy": "2021-04-19T13:49:06.256954Z",
     "iopub.status.idle": "2021-04-19T13:49:28.497144Z",
     "shell.execute_reply": "2021-04-19T13:49:28.495605Z"
    },
    "papermill": {
     "duration": 22.30658,
     "end_time": "2021-04-19T13:49:28.497318",
     "exception": false,
     "start_time": "2021-04-19T13:49:06.190738",
     "status": "completed"
    },
    "tags": []
   },
   "outputs": [],
   "source": [
    "import re\n",
    "import os\n",
    "import numpy as np\n",
    "import pandas as pd\n",
    "import tensorflow as tf\n",
    "import tensorflow_datasets as tfds\n",
    "import tensorflow_addons as tfa\n",
    "import matplotlib.pyplot as plt\n",
    "from sklearn.model_selection import train_test_split\n",
    "from sklearn.utils import class_weight\n",
    "import datetime\n",
    "\n",
    "import scipy\n",
    "import gc\n",
    "\n",
    "print(tf.__version__)\n",
    "print(tfds.__version__)"
   ]
  },
  {
   "attachments": {},
   "cell_type": "markdown",
   "id": "later-complaint",
   "metadata": {
    "papermill": {
     "duration": 0.061205,
     "end_time": "2021-04-19T13:49:28.623181",
     "exception": false,
     "start_time": "2021-04-19T13:49:28.561976",
     "status": "completed"
    },
    "tags": []
   },
   "source": [
    "# Load And Split"
   ]
  },
  {
   "cell_type": "code",
   "execution_count": null,
   "id": "eleven-flight",
   "metadata": {
    "_cell_guid": "79c7e3d0-c299-4dcb-8224-4455121ee9b0",
    "_uuid": "d629ff2d2480ee46fbb7e2d37f6b5fab8052498a",
    "execution": {
     "iopub.execute_input": "2021-04-19T13:49:28.758066Z",
     "iopub.status.busy": "2021-04-19T13:49:28.757064Z",
     "iopub.status.idle": "2021-04-19T13:49:28.760838Z",
     "shell.execute_reply": "2021-04-19T13:49:28.760279Z"
    },
    "papermill": {
     "duration": 0.075904,
     "end_time": "2021-04-19T13:49:28.761001",
     "exception": false,
     "start_time": "2021-04-19T13:49:28.685097",
     "status": "completed"
    },
    "tags": []
   },
   "outputs": [],
   "source": [
    "manual_dir = r'/kaggle/input/retinopathy-btgraham300/tensorflow_datasets'"
   ]
  },
  {
   "cell_type": "code",
   "execution_count": null,
   "id": "supposed-blank",
   "metadata": {
    "execution": {
     "iopub.execute_input": "2021-04-19T13:49:28.894508Z",
     "iopub.status.busy": "2021-04-19T13:49:28.893800Z",
     "iopub.status.idle": "2021-04-19T13:49:32.012121Z",
     "shell.execute_reply": "2021-04-19T13:49:32.013628Z"
    },
    "papermill": {
     "duration": 3.189912,
     "end_time": "2021-04-19T13:49:32.014024",
     "exception": false,
     "start_time": "2021-04-19T13:49:28.824112",
     "status": "completed"
    },
    "tags": []
   },
   "outputs": [],
   "source": [
    "(ds_train, ds_val, ds_test), ds_info = \\\n",
    "tfds.load('diabetic_retinopathy_detection/btgraham-300:3.0.0',\n",
    "          split=['train', 'validation', 'test'],\n",
    "          download=False,data_dir=manual_dir, with_info=True,\n",
    "          shuffle_files=False, as_supervised=False)"
   ]
  },
  {
   "cell_type": "code",
   "execution_count": null,
   "id": "primary-tribute",
   "metadata": {
    "execution": {
     "iopub.execute_input": "2021-04-19T13:49:32.514863Z",
     "iopub.status.busy": "2021-04-19T13:49:32.502529Z",
     "iopub.status.idle": "2021-04-19T13:49:32.527169Z",
     "shell.execute_reply": "2021-04-19T13:49:32.528098Z"
    },
    "papermill": {
     "duration": 0.234246,
     "end_time": "2021-04-19T13:49:32.528394",
     "exception": false,
     "start_time": "2021-04-19T13:49:32.294148",
     "status": "completed"
    },
    "tags": []
   },
   "outputs": [],
   "source": [
    "print(ds_info)"
   ]
  },
  {
   "attachments": {},
   "cell_type": "markdown",
   "id": "sticky-hardware",
   "metadata": {
    "papermill": {
     "duration": 0.061875,
     "end_time": "2021-04-19T13:49:33.819615",
     "exception": false,
     "start_time": "2021-04-19T13:49:33.757740",
     "status": "completed"
    },
    "tags": []
   },
   "source": [
    "# EDA"
   ]
  },
  {
   "cell_type": "code",
   "execution_count": null,
   "id": "involved-integrity",
   "metadata": {
    "execution": {
     "iopub.execute_input": "2021-04-19T13:49:33.950878Z",
     "iopub.status.busy": "2021-04-19T13:49:33.949725Z",
     "iopub.status.idle": "2021-04-19T13:49:35.423105Z",
     "shell.execute_reply": "2021-04-19T13:49:35.423659Z"
    },
    "papermill": {
     "duration": 1.541224,
     "end_time": "2021-04-19T13:49:35.423890",
     "exception": false,
     "start_time": "2021-04-19T13:49:33.882666",
     "status": "completed"
    },
    "tags": []
   },
   "outputs": [],
   "source": [
    "vis = tfds.visualization.show_examples(ds_train, ds_info)"
   ]
  },
  {
   "cell_type": "code",
   "execution_count": null,
   "id": "formal-iceland",
   "metadata": {
    "execution": {
     "iopub.execute_input": "2021-04-19T13:49:35.575385Z",
     "iopub.status.busy": "2021-04-19T13:49:35.574194Z",
     "iopub.status.idle": "2021-04-19T13:49:35.668733Z",
     "shell.execute_reply": "2021-04-19T13:49:35.668170Z"
    },
    "papermill": {
     "duration": 0.172774,
     "end_time": "2021-04-19T13:49:35.669037",
     "exception": false,
     "start_time": "2021-04-19T13:49:35.496263",
     "status": "completed"
    },
    "tags": []
   },
   "outputs": [],
   "source": [
    "for tensor in ds_train.take(1):\n",
    "    image=tensor['image'].numpy()\n",
    "    label=tensor['label'].numpy()"
   ]
  },
  {
   "cell_type": "code",
   "execution_count": null,
   "id": "viral-spiritual",
   "metadata": {
    "execution": {
     "iopub.execute_input": "2021-04-19T13:49:35.841374Z",
     "iopub.status.busy": "2021-04-19T13:49:35.840054Z",
     "iopub.status.idle": "2021-04-19T13:49:36.039038Z",
     "shell.execute_reply": "2021-04-19T13:49:36.039595Z"
    },
    "papermill": {
     "duration": 0.298415,
     "end_time": "2021-04-19T13:49:36.039861",
     "exception": false,
     "start_time": "2021-04-19T13:49:35.741446",
     "status": "completed"
    },
    "tags": []
   },
   "outputs": [],
   "source": [
    "print(\"Etiqueta: \",label)\n",
    "plt.imshow(image);"
   ]
  },
  {
   "cell_type": "code",
   "execution_count": null,
   "id": "middle-petite",
   "metadata": {
    "execution": {
     "iopub.execute_input": "2021-04-19T13:49:36.199178Z",
     "iopub.status.busy": "2021-04-19T13:49:36.198074Z",
     "iopub.status.idle": "2021-04-19T13:50:36.149030Z",
     "shell.execute_reply": "2021-04-19T13:50:36.148356Z"
    },
    "papermill": {
     "duration": 60.033766,
     "end_time": "2021-04-19T13:50:36.149184",
     "exception": false,
     "start_time": "2021-04-19T13:49:36.115418",
     "status": "completed"
    },
    "tags": []
   },
   "outputs": [],
   "source": [
    "label_list = [tensor['label'] for tensor in ds_train.as_numpy_iterator()]\n",
    "unique, counts = np.unique(label_list, return_counts=True)\n",
    "plt.bar(unique, counts)\n",
    "print(*zip(unique, counts))"
   ]
  },
  {
   "attachments": {},
   "cell_type": "markdown",
   "id": "hungry-panel",
   "metadata": {
    "papermill": {
     "duration": 0.074307,
     "end_time": "2021-04-19T13:50:36.299995",
     "exception": false,
     "start_time": "2021-04-19T13:50:36.225688",
     "status": "completed"
    },
    "tags": []
   },
   "source": [
    "# Class weights"
   ]
  },
  {
   "cell_type": "code",
   "execution_count": null,
   "id": "general-apparel",
   "metadata": {
    "execution": {
     "iopub.execute_input": "2021-04-19T13:50:36.464473Z",
     "iopub.status.busy": "2021-04-19T13:50:36.463434Z",
     "iopub.status.idle": "2021-04-19T13:50:36.531546Z",
     "shell.execute_reply": "2021-04-19T13:50:36.532094Z"
    },
    "papermill": {
     "duration": 0.156318,
     "end_time": "2021-04-19T13:50:36.532287",
     "exception": false,
     "start_time": "2021-04-19T13:50:36.375969",
     "status": "completed"
    },
    "tags": []
   },
   "outputs": [],
   "source": [
    "from sklearn.utils.class_weight import compute_class_weight, compute_sample_weight\n",
    " \n",
    "class_weights = compute_class_weight('balanced', np.unique(label_list), label_list)\n",
    "sample_weights = compute_sample_weight('balanced', label_list)\n",
    " \n",
    "class_weights_dict = dict(enumerate(class_weights))"
   ]
  },
  {
   "cell_type": "code",
   "execution_count": null,
   "id": "bigger-austin",
   "metadata": {
    "execution": {
     "iopub.execute_input": "2021-04-19T13:50:36.704764Z",
     "iopub.status.busy": "2021-04-19T13:50:36.703487Z",
     "iopub.status.idle": "2021-04-19T13:50:36.709317Z",
     "shell.execute_reply": "2021-04-19T13:50:36.708639Z"
    },
    "papermill": {
     "duration": 0.097489,
     "end_time": "2021-04-19T13:50:36.709449",
     "exception": false,
     "start_time": "2021-04-19T13:50:36.611960",
     "status": "completed"
    },
    "tags": []
   },
   "outputs": [],
   "source": [
    "len(sample_weights)"
   ]
  },
  {
   "cell_type": "code",
   "execution_count": null,
   "id": "charitable-prediction",
   "metadata": {
    "execution": {
     "iopub.execute_input": "2021-04-19T13:50:36.882388Z",
     "iopub.status.busy": "2021-04-19T13:50:36.881238Z",
     "iopub.status.idle": "2021-04-19T13:50:36.886529Z",
     "shell.execute_reply": "2021-04-19T13:50:36.885972Z"
    },
    "papermill": {
     "duration": 0.096097,
     "end_time": "2021-04-19T13:50:36.886671",
     "exception": false,
     "start_time": "2021-04-19T13:50:36.790574",
     "status": "completed"
    },
    "tags": []
   },
   "outputs": [],
   "source": [
    "y = np.bincount(label_list)\n",
    "ii = np.nonzero(y)[0]\n",
    "list_zip =[*zip(ii,y[ii])]\n",
    "list_zip"
   ]
  },
  {
   "cell_type": "code",
   "execution_count": null,
   "id": "configured-length",
   "metadata": {
    "execution": {
     "iopub.execute_input": "2021-04-19T13:50:37.050336Z",
     "iopub.status.busy": "2021-04-19T13:50:37.049113Z",
     "iopub.status.idle": "2021-04-19T13:50:37.054376Z",
     "shell.execute_reply": "2021-04-19T13:50:37.053739Z"
    },
    "papermill": {
     "duration": 0.090223,
     "end_time": "2021-04-19T13:50:37.054516",
     "exception": false,
     "start_time": "2021-04-19T13:50:36.964293",
     "status": "completed"
    },
    "tags": []
   },
   "outputs": [],
   "source": [
    "y"
   ]
  },
  {
   "cell_type": "code",
   "execution_count": null,
   "id": "imported-hollow",
   "metadata": {
    "execution": {
     "iopub.execute_input": "2021-04-19T13:50:37.220872Z",
     "iopub.status.busy": "2021-04-19T13:50:37.219644Z",
     "iopub.status.idle": "2021-04-19T13:50:37.224842Z",
     "shell.execute_reply": "2021-04-19T13:50:37.224277Z"
    },
    "papermill": {
     "duration": 0.090858,
     "end_time": "2021-04-19T13:50:37.225017",
     "exception": false,
     "start_time": "2021-04-19T13:50:37.134159",
     "status": "completed"
    },
    "tags": []
   },
   "outputs": [],
   "source": [
    "[y[i]*class_weights[i] for i in range(4)]\n",
    "    "
   ]
  },
  {
   "attachments": {},
   "cell_type": "markdown",
   "id": "oriental-acceptance",
   "metadata": {
    "papermill": {
     "duration": 0.077474,
     "end_time": "2021-04-19T13:50:39.696461",
     "exception": false,
     "start_time": "2021-04-19T13:50:39.618987",
     "status": "completed"
    },
    "tags": []
   },
   "source": [
    "# Preprocesing"
   ]
  },
  {
   "cell_type": "code",
   "execution_count": null,
   "id": "conservative-championship",
   "metadata": {
    "execution": {
     "iopub.execute_input": "2021-04-19T13:50:39.863087Z",
     "iopub.status.busy": "2021-04-19T13:50:39.861992Z",
     "iopub.status.idle": "2021-04-19T13:50:40.020618Z",
     "shell.execute_reply": "2021-04-19T13:50:40.020013Z"
    },
    "papermill": {
     "duration": 0.246364,
     "end_time": "2021-04-19T13:50:40.020804",
     "exception": false,
     "start_time": "2021-04-19T13:50:39.774440",
     "status": "completed"
    },
    "tags": []
   },
   "outputs": [],
   "source": [
    "def transform_images(row, size, reescale=True):\n",
    "    x_train = tf.image.resize(row['image'], (size, size))\n",
    "    if reescale:\n",
    "        x_train = x_train  / 255\n",
    "    return x_train, tf.one_hot(row['label'], depth=5)\n",
    "def transform_images_complete(row, size):\n",
    "    x_train = tf.image.resize(row['image'], (size, size))\n",
    "    x_train = x_train  / 255\n",
    "    return x_train, tf.one_hot(row['label'], depth=5), row['name']\n",
    "\n",
    "ds_train = ds_train.map(lambda row:transform_images(row, 400))\n",
    "ds_val = ds_val.map(lambda row:transform_images(row, 400))\n",
    "ds_test = ds_test.map(lambda row:transform_images(row, 400, reescale=True))"
   ]
  },
  {
   "cell_type": "code",
   "execution_count": null,
   "id": "subject-stereo",
   "metadata": {
    "execution": {
     "iopub.execute_input": "2021-04-19T13:50:40.187784Z",
     "iopub.status.busy": "2021-04-19T13:50:40.186684Z",
     "iopub.status.idle": "2021-04-19T13:50:40.191936Z",
     "shell.execute_reply": "2021-04-19T13:50:40.191353Z"
    },
    "papermill": {
     "duration": 0.092601,
     "end_time": "2021-04-19T13:50:40.192070",
     "exception": false,
     "start_time": "2021-04-19T13:50:40.099469",
     "status": "completed"
    },
    "tags": []
   },
   "outputs": [],
   "source": [
    "print(\"Num classes: \" + str(ds_info.features['label'].num_classes))\n",
    "print(\"Class names: \" + str(ds_info.features['label'].names))"
   ]
  },
  {
   "cell_type": "code",
   "execution_count": null,
   "id": "favorite-majority",
   "metadata": {
    "execution": {
     "iopub.execute_input": "2021-04-19T13:50:40.361331Z",
     "iopub.status.busy": "2021-04-19T13:50:40.360212Z",
     "iopub.status.idle": "2021-04-19T13:50:40.367474Z",
     "shell.execute_reply": "2021-04-19T13:50:40.366771Z"
    },
    "papermill": {
     "duration": 0.095221,
     "end_time": "2021-04-19T13:50:40.367625",
     "exception": false,
     "start_time": "2021-04-19T13:50:40.272404",
     "status": "completed"
    },
    "tags": []
   },
   "outputs": [],
   "source": [
    "NUM_TRAIN_IMAGES = tf.data.experimental.cardinality(ds_train).numpy()\n",
    "print(\"Num training images: \" + str(NUM_TRAIN_IMAGES))\n",
    "\n",
    "NUM_VAL_IMAGES = tf.data.experimental.cardinality(ds_val).numpy()\n",
    "print(\"Num validating images: \" + str(NUM_VAL_IMAGES))\n",
    "\n",
    "NUM_TEST_IMAGES = tf.data.experimental.cardinality(ds_test).numpy()\n",
    "print(\"Num testing images: \" + str(NUM_TEST_IMAGES))"
   ]
  },
  {
   "cell_type": "code",
   "execution_count": null,
   "id": "spatial-radiation",
   "metadata": {
    "execution": {
     "iopub.execute_input": "2021-04-19T13:50:40.536129Z",
     "iopub.status.busy": "2021-04-19T13:50:40.535053Z",
     "iopub.status.idle": "2021-04-19T13:50:40.542461Z",
     "shell.execute_reply": "2021-04-19T13:50:40.541593Z"
    },
    "papermill": {
     "duration": 0.094612,
     "end_time": "2021-04-19T13:50:40.542633",
     "exception": false,
     "start_time": "2021-04-19T13:50:40.448021",
     "status": "completed"
    },
    "tags": []
   },
   "outputs": [],
   "source": [
    "ds_train = ds_train.shuffle(1000)\n",
    "ds_train = ds_train.batch(32)\n",
    "ds_val = ds_val.shuffle(1000)\n",
    "ds_val = ds_val.batch(32)\n",
    "ds_test = ds_test.batch(32)"
   ]
  },
  {
   "cell_type": "code",
   "execution_count": null,
   "id": "future-bathroom",
   "metadata": {
    "execution": {
     "iopub.execute_input": "2021-04-19T13:50:40.713712Z",
     "iopub.status.busy": "2021-04-19T13:50:40.712558Z",
     "iopub.status.idle": "2021-04-19T13:50:45.371208Z",
     "shell.execute_reply": "2021-04-19T13:50:45.369548Z"
    },
    "papermill": {
     "duration": 4.743995,
     "end_time": "2021-04-19T13:50:45.371354",
     "exception": false,
     "start_time": "2021-04-19T13:50:40.627359",
     "status": "completed"
    },
    "tags": []
   },
   "outputs": [],
   "source": [
    "for i in ds_train.take(1):\n",
    "    print(i)"
   ]
  },
  {
   "attachments": {},
   "cell_type": "markdown",
   "id": "knowing-tanzania",
   "metadata": {
    "papermill": {
     "duration": 0.082064,
     "end_time": "2021-04-19T13:50:45.535349",
     "exception": false,
     "start_time": "2021-04-19T13:50:45.453285",
     "status": "completed"
    },
    "tags": []
   },
   "source": [
    "# Build Model"
   ]
  },
  {
   "cell_type": "code",
   "execution_count": null,
   "id": "interim-means",
   "metadata": {
    "execution": {
     "iopub.execute_input": "2021-04-19T13:50:45.709668Z",
     "iopub.status.busy": "2021-04-19T13:50:45.708730Z",
     "iopub.status.idle": "2021-04-19T13:50:50.226795Z",
     "shell.execute_reply": "2021-04-19T13:50:50.226204Z"
    },
    "papermill": {
     "duration": 4.609285,
     "end_time": "2021-04-19T13:50:50.226987",
     "exception": false,
     "start_time": "2021-04-19T13:50:45.617702",
     "status": "completed"
    },
    "tags": []
   },
   "outputs": [],
   "source": [
    "\n",
    "\n",
    "from tensorflow.keras.layers import Input # Input Layer\n",
    "from tensorflow.keras.applications import DenseNet121 # Keras Application\n",
    "from tensorflow.keras.layers import Dense # Dense Layer (Fully connected)\n",
    "from tensorflow.keras.models import Model # Model Structure\n",
    "\n",
    "\n",
    "\n",
    "input_shape=(400, 400, 3)\n",
    "\n",
    "img_input = Input(shape=input_shape)\n",
    "base_model = DenseNet121(include_top=False, \n",
    "                         input_tensor=img_input, \n",
    "                         input_shape=input_shape, \n",
    "                         pooling=\"max\", \n",
    "                         weights='imagenet')\n",
    "base_model.trainable = True\n",
    "x = base_model.output\n",
    "predictions = Dense(5, \n",
    "                    activation=\"softmax\", \n",
    "                    name=\"predictions\")(x)\n",
    "model = Model(inputs=img_input, \n",
    "              outputs=predictions)"
   ]
  },
  {
   "cell_type": "code",
   "execution_count": null,
   "id": "global-contamination",
   "metadata": {
    "execution": {
     "iopub.execute_input": "2021-04-19T13:50:50.415913Z",
     "iopub.status.busy": "2021-04-19T13:50:50.414705Z",
     "iopub.status.idle": "2021-04-19T13:50:50.463522Z",
     "shell.execute_reply": "2021-04-19T13:50:50.462859Z"
    },
    "papermill": {
     "duration": 0.150566,
     "end_time": "2021-04-19T13:50:50.463681",
     "exception": false,
     "start_time": "2021-04-19T13:50:50.313115",
     "status": "completed"
    },
    "tags": []
   },
   "outputs": [],
   "source": [
    "model.compile(\n",
    "    optimizer=tf.keras.optimizers.Adam(learning_rate=0.0001), #by default learning_rate=0.001\n",
    "    loss='categorical_crossentropy',\n",
    "    metrics=[tf.keras.metrics.CategoricalAccuracy(name=\"cat_acc\"),tf.keras.metrics.AUC(name='auc'),\n",
    "            tf.keras.metrics.Recall(name='recall'),tf.keras.metrics.Precision(name='precision')]\n",
    ")"
   ]
  },
  {
   "attachments": {},
   "cell_type": "markdown",
   "id": "noted-major",
   "metadata": {
    "papermill": {
     "duration": 0.085585,
     "end_time": "2021-04-19T13:50:50.635614",
     "exception": false,
     "start_time": "2021-04-19T13:50:50.550029",
     "status": "completed"
    },
    "tags": []
   },
   "source": [
    "# Train Model"
   ]
  },
  {
   "cell_type": "code",
   "execution_count": null,
   "id": "material-saskatchewan",
   "metadata": {
    "execution": {
     "iopub.execute_input": "2021-04-19T13:50:50.818119Z",
     "iopub.status.busy": "2021-04-19T13:50:50.817203Z",
     "iopub.status.idle": "2021-04-19T18:43:20.030423Z",
     "shell.execute_reply": "2021-04-19T18:43:20.029364Z"
    },
    "papermill": {
     "duration": 17549.309,
     "end_time": "2021-04-19T18:43:20.030666",
     "exception": false,
     "start_time": "2021-04-19T13:50:50.721666",
     "status": "completed"
    },
    "tags": []
   },
   "outputs": [],
   "source": [
    "history = model.fit(\n",
    "    ds_train,\n",
    "    epochs=20,\n",
    "    validation_data=ds_val,\n",
    "    class_weight=class_weights_dict,\n",
    "    shuffle=True,\n",
    "    callbacks=[\n",
    "        tf.keras.callbacks.ReduceLROnPlateau(patience=4, verbose=1),\n",
    "        tf.keras.callbacks.ModelCheckpoint(filepath='bestmodel.h5',\n",
    "                                          verbose=1, save_best_only=True)\n",
    "    ]\n",
    ")"
   ]
  },
  {
   "attachments": {},
   "cell_type": "markdown",
   "id": "supposed-chair",
   "metadata": {
    "papermill": {
     "duration": 8.066237,
     "end_time": "2021-04-19T18:43:35.400106",
     "exception": false,
     "start_time": "2021-04-19T18:43:27.333869",
     "status": "completed"
    },
    "tags": []
   },
   "source": [
    "# Plot model training"
   ]
  },
  {
   "cell_type": "code",
   "execution_count": null,
   "id": "alpine-negotiation",
   "metadata": {
    "execution": {
     "iopub.execute_input": "2021-04-19T18:43:50.071260Z",
     "iopub.status.busy": "2021-04-19T18:43:50.057321Z",
     "iopub.status.idle": "2021-04-19T18:43:50.591431Z",
     "shell.execute_reply": "2021-04-19T18:43:50.590476Z"
    },
    "papermill": {
     "duration": 7.724032,
     "end_time": "2021-04-19T18:43:50.591564",
     "exception": false,
     "start_time": "2021-04-19T18:43:42.867532",
     "status": "completed"
    },
    "tags": []
   },
   "outputs": [],
   "source": [
    "import matplotlib.pyplot as plt\n",
    "auc = history.history['auc']\n",
    "val_auc = history.history['val_auc']\n",
    "loss = history.history['loss']\n",
    "val_loss = history.history['val_loss']\n",
    "cat_acc = history.history['cat_acc']\n",
    "val_cat_acc = history.history['val_cat_acc']\n",
    "\n",
    "epochs = range(len(auc))\n",
    "plt.figure(figsize=(18, 4.8))\n",
    "plt.subplot(1,3,1)\n",
    "plt.plot(epochs, auc, 'r', label='Training auc')\n",
    "plt.plot(epochs, val_auc, 'b', label='Validation auc')\n",
    "plt.ylim(0, 1)\n",
    "plt.title('Training and validation AUC')\n",
    "plt.legend(loc=0)\n",
    "\n",
    "plt.subplot(1,3,2)\n",
    "plt.plot(epochs, loss, 'y-.', label='Training loss')\n",
    "plt.plot(epochs, val_loss, 'g-.', label='Validation loss')\n",
    "plt.title('Training and validation Loss')\n",
    "plt.ylim(0, 2)\n",
    "plt.legend(loc=0)\n",
    "\n",
    "plt.subplot(1,3,3)\n",
    "plt.plot(epochs, cat_acc, 'c-.', label='Training cat_acc')\n",
    "plt.plot(epochs, val_cat_acc, 'g', label='Validation cat_acc')\n",
    "plt.title('Training and validation cat_acc')\n",
    "plt.ylim(0, 1)\n",
    "plt.legend(loc=0)\n",
    "\n",
    "\n",
    "\n",
    "plt.show()"
   ]
  },
  {
   "attachments": {},
   "cell_type": "markdown",
   "id": "pediatric-nutrition",
   "metadata": {
    "papermill": {
     "duration": 8.051594,
     "end_time": "2021-04-19T18:44:06.016493",
     "exception": false,
     "start_time": "2021-04-19T18:43:57.964899",
     "status": "completed"
    },
    "tags": []
   },
   "source": [
    "# Only use the best weights for the model."
   ]
  },
  {
   "cell_type": "code",
   "execution_count": null,
   "id": "european-edition",
   "metadata": {
    "execution": {
     "iopub.execute_input": "2021-04-19T18:44:20.699972Z",
     "iopub.status.busy": "2021-04-19T18:44:20.694705Z",
     "iopub.status.idle": "2021-04-19T18:44:25.478203Z",
     "shell.execute_reply": "2021-04-19T18:44:25.476964Z"
    },
    "papermill": {
     "duration": 11.848022,
     "end_time": "2021-04-19T18:44:25.478352",
     "exception": false,
     "start_time": "2021-04-19T18:44:13.630330",
     "status": "completed"
    },
    "tags": []
   },
   "outputs": [],
   "source": [
    "best_model = tf.keras.models.load_model('bestmodel.h5')"
   ]
  },
  {
   "cell_type": "code",
   "execution_count": null,
   "id": "0690a91e",
   "metadata": {},
   "outputs": [],
   "source": []
  },
  {
   "attachments": {},
   "cell_type": "markdown",
   "id": "historical-central",
   "metadata": {
    "papermill": {
     "duration": 8.3902,
     "end_time": "2021-04-19T18:44:41.162028",
     "exception": false,
     "start_time": "2021-04-19T18:44:32.771828",
     "status": "completed"
    },
    "tags": []
   },
   "source": [
    "# Preds and Evaluation"
   ]
  },
  {
   "cell_type": "code",
   "execution_count": null,
   "id": "obvious-porcelain",
   "metadata": {
    "execution": {
     "iopub.execute_input": "2021-04-19T18:44:56.111552Z",
     "iopub.status.busy": "2021-04-19T18:44:56.110466Z",
     "iopub.status.idle": "2021-04-19T18:48:41.578058Z",
     "shell.execute_reply": "2021-04-19T18:48:41.470265Z"
    },
    "papermill": {
     "duration": 232.75976,
     "end_time": "2021-04-19T18:48:41.578301",
     "exception": false,
     "start_time": "2021-04-19T18:44:48.818541",
     "status": "completed"
    },
    "tags": []
   },
   "outputs": [],
   "source": [
    "preds = best_model.predict(ds_test, verbose=1)"
   ]
  },
  {
   "cell_type": "code",
   "execution_count": null,
   "id": "extensive-suspect",
   "metadata": {
    "execution": {
     "iopub.execute_input": "2021-04-19T18:48:57.260414Z",
     "iopub.status.busy": "2021-04-19T18:48:57.259322Z",
     "iopub.status.idle": "2021-04-19T18:52:37.385185Z",
     "shell.execute_reply": "2021-04-19T18:52:37.384016Z"
    },
    "papermill": {
     "duration": 227.825556,
     "end_time": "2021-04-19T18:52:37.385357",
     "exception": false,
     "start_time": "2021-04-19T18:48:49.559801",
     "status": "completed"
    },
    "tags": []
   },
   "outputs": [],
   "source": [
    "evaluation_model = best_model.evaluate(ds_test, verbose=1)"
   ]
  },
  {
   "cell_type": "code",
   "execution_count": null,
   "id": "little-temperature",
   "metadata": {
    "execution": {
     "iopub.execute_input": "2021-04-19T18:52:55.095302Z",
     "iopub.status.busy": "2021-04-19T18:52:55.092012Z",
     "iopub.status.idle": "2021-04-19T18:52:55.098439Z",
     "shell.execute_reply": "2021-04-19T18:52:55.097786Z"
    },
    "papermill": {
     "duration": 9.170299,
     "end_time": "2021-04-19T18:52:55.098586",
     "exception": false,
     "start_time": "2021-04-19T18:52:45.928287",
     "status": "completed"
    },
    "tags": []
   },
   "outputs": [],
   "source": [
    "print(*zip(evaluation_model,['loss','cat_acc','auc','recall','precision']))"
   ]
  },
  {
   "cell_type": "code",
   "execution_count": null,
   "id": "finite-bridges",
   "metadata": {
    "execution": {
     "iopub.execute_input": "2021-04-19T18:53:12.037643Z",
     "iopub.status.busy": "2021-04-19T18:53:12.036454Z",
     "iopub.status.idle": "2021-04-19T18:53:12.043732Z",
     "shell.execute_reply": "2021-04-19T18:53:12.046340Z"
    },
    "papermill": {
     "duration": 8.238672,
     "end_time": "2021-04-19T18:53:12.046786",
     "exception": false,
     "start_time": "2021-04-19T18:53:03.808114",
     "status": "completed"
    },
    "tags": []
   },
   "outputs": [],
   "source": [
    "preds[1]"
   ]
  },
  {
   "cell_type": "code",
   "execution_count": null,
   "id": "armed-vehicle",
   "metadata": {
    "execution": {
     "iopub.execute_input": "2021-04-19T18:53:29.492827Z",
     "iopub.status.busy": "2021-04-19T18:53:29.489111Z",
     "iopub.status.idle": "2021-04-19T18:53:29.630500Z",
     "shell.execute_reply": "2021-04-19T18:53:29.629846Z"
    },
    "papermill": {
     "duration": 9.235971,
     "end_time": "2021-04-19T18:53:29.630672",
     "exception": false,
     "start_time": "2021-04-19T18:53:20.394701",
     "status": "completed"
    },
    "tags": []
   },
   "outputs": [],
   "source": [
    "preds = [np.argmax(pred) for pred in preds]"
   ]
  },
  {
   "cell_type": "code",
   "execution_count": null,
   "id": "increasing-jacob",
   "metadata": {
    "execution": {
     "iopub.execute_input": "2021-04-19T18:53:46.435128Z",
     "iopub.status.busy": "2021-04-19T18:53:46.434099Z",
     "iopub.status.idle": "2021-04-19T18:53:46.441314Z",
     "shell.execute_reply": "2021-04-19T18:53:46.440717Z"
    },
    "papermill": {
     "duration": 8.501915,
     "end_time": "2021-04-19T18:53:46.441446",
     "exception": false,
     "start_time": "2021-04-19T18:53:37.939531",
     "status": "completed"
    },
    "tags": []
   },
   "outputs": [],
   "source": [
    "len(preds)"
   ]
  },
  {
   "cell_type": "code",
   "execution_count": null,
   "id": "knowing-master",
   "metadata": {
    "execution": {
     "iopub.execute_input": "2021-04-19T18:54:03.598432Z",
     "iopub.status.busy": "2021-04-19T18:54:03.597372Z",
     "iopub.status.idle": "2021-04-19T18:54:03.608661Z",
     "shell.execute_reply": "2021-04-19T18:54:03.608181Z"
    },
    "papermill": {
     "duration": 8.998386,
     "end_time": "2021-04-19T18:54:03.608822",
     "exception": false,
     "start_time": "2021-04-19T18:53:54.610436",
     "status": "completed"
    },
    "tags": []
   },
   "outputs": [],
   "source": [
    "ds_test = ds_test.unbatch()"
   ]
  },
  {
   "cell_type": "code",
   "execution_count": null,
   "id": "sudden-motivation",
   "metadata": {
    "execution": {
     "iopub.execute_input": "2021-04-19T18:54:20.627389Z",
     "iopub.status.busy": "2021-04-19T18:54:20.626427Z",
     "iopub.status.idle": "2021-04-19T18:57:13.122255Z",
     "shell.execute_reply": "2021-04-19T18:57:13.121145Z"
    },
    "papermill": {
     "duration": 180.764237,
     "end_time": "2021-04-19T18:57:13.122422",
     "exception": false,
     "start_time": "2021-04-19T18:54:12.358185",
     "status": "completed"
    },
    "tags": []
   },
   "outputs": [],
   "source": [
    "actuals = [np.argmax(row[1]) for row in ds_test.as_numpy_iterator()]"
   ]
  },
  {
   "cell_type": "code",
   "execution_count": null,
   "id": "outer-operator",
   "metadata": {
    "execution": {
     "iopub.execute_input": "2021-04-19T18:57:29.954029Z",
     "iopub.status.busy": "2021-04-19T18:57:29.952856Z",
     "iopub.status.idle": "2021-04-19T18:57:29.958588Z",
     "shell.execute_reply": "2021-04-19T18:57:29.958107Z"
    },
    "papermill": {
     "duration": 8.380984,
     "end_time": "2021-04-19T18:57:29.958713",
     "exception": false,
     "start_time": "2021-04-19T18:57:21.577729",
     "status": "completed"
    },
    "tags": []
   },
   "outputs": [],
   "source": [
    "len(actuals)"
   ]
  },
  {
   "cell_type": "code",
   "execution_count": null,
   "id": "technical-arrow",
   "metadata": {
    "execution": {
     "iopub.execute_input": "2021-04-19T18:57:47.629603Z",
     "iopub.status.busy": "2021-04-19T18:57:47.627920Z",
     "iopub.status.idle": "2021-04-19T18:57:47.632245Z",
     "shell.execute_reply": "2021-04-19T18:57:47.630254Z"
    },
    "papermill": {
     "duration": 9.244136,
     "end_time": "2021-04-19T18:57:47.632396",
     "exception": false,
     "start_time": "2021-04-19T18:57:38.388260",
     "status": "completed"
    },
    "tags": []
   },
   "outputs": [],
   "source": [
    "print(\"preds:\",preds[:30])\n",
    "print(\"trues:\",actuals[:30])"
   ]
  },
  {
   "cell_type": "code",
   "execution_count": null,
   "id": "organic-compensation",
   "metadata": {
    "execution": {
     "iopub.execute_input": "2021-04-19T18:58:04.195302Z",
     "iopub.status.busy": "2021-04-19T18:58:04.194329Z",
     "iopub.status.idle": "2021-04-19T18:58:04.212870Z",
     "shell.execute_reply": "2021-04-19T18:58:04.213365Z"
    },
    "papermill": {
     "duration": 8.376479,
     "end_time": "2021-04-19T18:58:04.213534",
     "exception": false,
     "start_time": "2021-04-19T18:57:55.837055",
     "status": "completed"
    },
    "tags": []
   },
   "outputs": [],
   "source": [
    "sample_weights = compute_sample_weight('balanced', actuals)"
   ]
  },
  {
   "cell_type": "code",
   "execution_count": null,
   "id": "hundred-proposition",
   "metadata": {
    "execution": {
     "iopub.execute_input": "2021-04-19T18:58:21.803262Z",
     "iopub.status.busy": "2021-04-19T18:58:21.802178Z",
     "iopub.status.idle": "2021-04-19T19:20:26.496579Z",
     "shell.execute_reply": "2021-04-19T19:20:26.497380Z"
    },
    "papermill": {
     "duration": 1333.756872,
     "end_time": "2021-04-19T19:20:26.497561",
     "exception": false,
     "start_time": "2021-04-19T18:58:12.740689",
     "status": "completed"
    },
    "tags": []
   },
   "outputs": [],
   "source": [
    "m = tfa.metrics.CohenKappa(num_classes=5, sparse_labels=True, weightage=\"quadratic\")\n",
    "m.update_state(actuals, preds, sample_weight=sample_weights)\n",
    "print('Final result: ', m.result().numpy())"
   ]
  },
  {
   "cell_type": "code",
   "execution_count": null,
   "id": "demographic-spectrum",
   "metadata": {
    "execution": {
     "iopub.execute_input": "2021-04-19T19:20:44.477365Z",
     "iopub.status.busy": "2021-04-19T19:20:44.476259Z",
     "iopub.status.idle": "2021-04-19T19:20:44.557511Z",
     "shell.execute_reply": "2021-04-19T19:20:44.556697Z"
    },
    "papermill": {
     "duration": 8.770253,
     "end_time": "2021-04-19T19:20:44.557658",
     "exception": false,
     "start_time": "2021-04-19T19:20:35.787405",
     "status": "completed"
    },
    "tags": []
   },
   "outputs": [],
   "source": [
    "from sklearn.metrics import (mean_squared_error,confusion_matrix, plot_confusion_matrix, f1_score)\n",
    "from sklearn.metrics import classification_report\n",
    "target_names = ['class 0', 'class 1', 'class 2', 'class 3', 'class 4']\n",
    "print(classification_report(actuals, preds, target_names=target_names))"
   ]
  },
  {
   "cell_type": "code",
   "execution_count": null,
   "id": "powerful-conditioning",
   "metadata": {
    "execution": {
     "iopub.execute_input": "2021-04-19T19:21:01.450081Z",
     "iopub.status.busy": "2021-04-19T19:21:01.449182Z",
     "iopub.status.idle": "2021-04-19T19:21:01.540506Z",
     "shell.execute_reply": "2021-04-19T19:21:01.541014Z"
    },
    "papermill": {
     "duration": 8.630566,
     "end_time": "2021-04-19T19:21:01.541181",
     "exception": false,
     "start_time": "2021-04-19T19:20:52.910615",
     "status": "completed"
    },
    "tags": []
   },
   "outputs": [],
   "source": [
    "confusion_matrix(actuals, preds)"
   ]
  }
 ],
 "metadata": {
  "kernelspec": {
   "display_name": "Python 3",
   "language": "python",
   "name": "python3"
  },
  "language_info": {
   "codemirror_mode": {
    "name": "ipython",
    "version": 3
   },
   "file_extension": ".py",
   "mimetype": "text/x-python",
   "name": "python",
   "nbconvert_exporter": "python",
   "pygments_lexer": "ipython3",
   "version": "3.7.9"
  },
  "papermill": {
   "default_parameters": {},
   "duration": 19954.760935,
   "end_time": "2021-04-19T19:21:34.701516",
   "environment_variables": {},
   "exception": null,
   "input_path": "__notebook__.ipynb",
   "output_path": "__notebook__.ipynb",
   "parameters": {},
   "start_time": "2021-04-19T13:48:59.940581",
   "version": "2.3.2"
  }
 },
 "nbformat": 4,
 "nbformat_minor": 5
}
